{
 "cells": [
  {
   "cell_type": "code",
   "execution_count": 108,
   "metadata": {},
   "outputs": [],
   "source": [
    "import pandas as pd\n",
    "import matplotlib.pyplot as plt\n",
    "import seaborn as sns\n",
    "import numpy as np\n",
    "%matplotlib inline"
   ]
  },
  {
   "cell_type": "code",
   "execution_count": 109,
   "metadata": {},
   "outputs": [
    {
     "data": {
      "text/html": [
       "<div>\n",
       "<style scoped>\n",
       "    .dataframe tbody tr th:only-of-type {\n",
       "        vertical-align: middle;\n",
       "    }\n",
       "\n",
       "    .dataframe tbody tr th {\n",
       "        vertical-align: top;\n",
       "    }\n",
       "\n",
       "    .dataframe thead th {\n",
       "        text-align: right;\n",
       "    }\n",
       "</style>\n",
       "<table border=\"1\" class=\"dataframe\">\n",
       "  <thead>\n",
       "    <tr style=\"text-align: right;\">\n",
       "      <th></th>\n",
       "      <th>Unnamed: 0</th>\n",
       "      <th>Purchase Date</th>\n",
       "      <th>Titles</th>\n",
       "      <th>Category</th>\n",
       "      <th>Status</th>\n",
       "      <th>Prices</th>\n",
       "    </tr>\n",
       "  </thead>\n",
       "  <tbody>\n",
       "    <tr>\n",
       "      <th>0</th>\n",
       "      <td>0</td>\n",
       "      <td>Sat, 19th Sep</td>\n",
       "      <td>Realme 7 (Mist Blue, 64 GB)</td>\n",
       "      <td>Mobiles &amp; Accessories</td>\n",
       "      <td>Delivery expected between Today, Sep 24 and Oc...</td>\n",
       "      <td>₹14,999</td>\n",
       "    </tr>\n",
       "    <tr>\n",
       "      <th>1</th>\n",
       "      <td>1</td>\n",
       "      <td>Sat, 19th Sep</td>\n",
       "      <td>Realme 7 (Mist Blue, 64 GB)</td>\n",
       "      <td>Mobiles &amp; Accessories</td>\n",
       "      <td>Delivery expected between Today, Sep 24 and Oc...</td>\n",
       "      <td>₹14,999</td>\n",
       "    </tr>\n",
       "    <tr>\n",
       "      <th>2</th>\n",
       "      <td>2</td>\n",
       "      <td>Sat, 29th Aug</td>\n",
       "      <td>Amish's Ramachandra Series - Ram, Sita &amp;...</td>\n",
       "      <td>Books</td>\n",
       "      <td>Delivered on Sep 10</td>\n",
       "      <td>₹369</td>\n",
       "    </tr>\n",
       "    <tr>\n",
       "      <th>3</th>\n",
       "      <td>3</td>\n",
       "      <td>Sat, 29th Aug</td>\n",
       "      <td>The Richest Man In Babylon</td>\n",
       "      <td>Books</td>\n",
       "      <td>Delivered on Sep 09</td>\n",
       "      <td>₹175</td>\n",
       "    </tr>\n",
       "    <tr>\n",
       "      <th>4</th>\n",
       "      <td>4</td>\n",
       "      <td>Sat, 29th Aug</td>\n",
       "      <td>HOW TO TALK TO ANYONE</td>\n",
       "      <td>Books</td>\n",
       "      <td>Delivered on Sep 09</td>\n",
       "      <td>₹184</td>\n",
       "    </tr>\n",
       "  </tbody>\n",
       "</table>\n",
       "</div>"
      ],
      "text/plain": [
       "   Unnamed: 0  Purchase Date                                       Titles  \\\n",
       "0           0  Sat, 19th Sep                  Realme 7 (Mist Blue, 64 GB)   \n",
       "1           1  Sat, 19th Sep                  Realme 7 (Mist Blue, 64 GB)   \n",
       "2           2  Sat, 29th Aug  Amish's Ramachandra Series - Ram, Sita &...   \n",
       "3           3  Sat, 29th Aug                   The Richest Man In Babylon   \n",
       "4           4  Sat, 29th Aug                        HOW TO TALK TO ANYONE   \n",
       "\n",
       "                Category                                             Status  \\\n",
       "0  Mobiles & Accessories  Delivery expected between Today, Sep 24 and Oc...   \n",
       "1  Mobiles & Accessories  Delivery expected between Today, Sep 24 and Oc...   \n",
       "2                  Books                                Delivered on Sep 10   \n",
       "3                  Books                                Delivered on Sep 09   \n",
       "4                  Books                                Delivered on Sep 09   \n",
       "\n",
       "    Prices  \n",
       "0  ₹14,999  \n",
       "1  ₹14,999  \n",
       "2     ₹369  \n",
       "3     ₹175  \n",
       "4     ₹184  "
      ]
     },
     "execution_count": 109,
     "metadata": {},
     "output_type": "execute_result"
    }
   ],
   "source": [
    "df = pd.read_excel('Orders_Details.xlsx')\n",
    "df.head()"
   ]
  },
  {
   "cell_type": "code",
   "execution_count": 110,
   "metadata": {},
   "outputs": [
    {
     "name": "stdout",
     "output_type": "stream",
     "text": [
      "<class 'pandas.core.frame.DataFrame'>\n",
      "RangeIndex: 28 entries, 0 to 27\n",
      "Data columns (total 6 columns):\n",
      " #   Column         Non-Null Count  Dtype \n",
      "---  ------         --------------  ----- \n",
      " 0   Unnamed: 0     28 non-null     int64 \n",
      " 1   Purchase Date  28 non-null     object\n",
      " 2   Titles         28 non-null     object\n",
      " 3   Category       26 non-null     object\n",
      " 4   Status         28 non-null     object\n",
      " 5   Prices         28 non-null     object\n",
      "dtypes: int64(1), object(5)\n",
      "memory usage: 1.4+ KB\n"
     ]
    }
   ],
   "source": [
    "df.info()"
   ]
  },
  {
   "cell_type": "code",
   "execution_count": 111,
   "metadata": {},
   "outputs": [
    {
     "data": {
      "text/plain": [
       "Unnamed: 0       0\n",
       "Purchase Date    0\n",
       "Titles           0\n",
       "Category         2\n",
       "Status           0\n",
       "Prices           0\n",
       "dtype: int64"
      ]
     },
     "execution_count": 111,
     "metadata": {},
     "output_type": "execute_result"
    }
   ],
   "source": [
    "df.isnull().sum()\n",
    "#Number of missing values. Since, the data set is very small and missing values are even smaller,\n",
    "#let's directly look at the missing values"
   ]
  },
  {
   "cell_type": "code",
   "execution_count": 112,
   "metadata": {},
   "outputs": [
    {
     "data": {
      "text/html": [
       "<div>\n",
       "<style scoped>\n",
       "    .dataframe tbody tr th:only-of-type {\n",
       "        vertical-align: middle;\n",
       "    }\n",
       "\n",
       "    .dataframe tbody tr th {\n",
       "        vertical-align: top;\n",
       "    }\n",
       "\n",
       "    .dataframe thead th {\n",
       "        text-align: right;\n",
       "    }\n",
       "</style>\n",
       "<table border=\"1\" class=\"dataframe\">\n",
       "  <thead>\n",
       "    <tr style=\"text-align: right;\">\n",
       "      <th></th>\n",
       "      <th>Unnamed: 0</th>\n",
       "      <th>Purchase Date</th>\n",
       "      <th>Titles</th>\n",
       "      <th>Category</th>\n",
       "      <th>Status</th>\n",
       "      <th>Prices</th>\n",
       "    </tr>\n",
       "  </thead>\n",
       "  <tbody>\n",
       "    <tr>\n",
       "      <th>25</th>\n",
       "      <td>25</td>\n",
       "      <td>Wed, 16th May</td>\n",
       "      <td>I Am Malala</td>\n",
       "      <td>NaN</td>\n",
       "      <td>Delivered on May 20, 2018</td>\n",
       "      <td>₹203</td>\n",
       "    </tr>\n",
       "    <tr>\n",
       "      <th>27</th>\n",
       "      <td>27</td>\n",
       "      <td>Fri, 20th Apr</td>\n",
       "      <td>The Secret Of The Nagas (English, Paperb...</td>\n",
       "      <td>NaN</td>\n",
       "      <td>Delivered on Apr 22, 2018</td>\n",
       "      <td>₹220</td>\n",
       "    </tr>\n",
       "  </tbody>\n",
       "</table>\n",
       "</div>"
      ],
      "text/plain": [
       "    Unnamed: 0  Purchase Date                                       Titles  \\\n",
       "25          25  Wed, 16th May                                  I Am Malala   \n",
       "27          27  Fri, 20th Apr  The Secret Of The Nagas (English, Paperb...   \n",
       "\n",
       "   Category                     Status Prices  \n",
       "25      NaN  Delivered on May 20, 2018   ₹203  \n",
       "27      NaN  Delivered on Apr 22, 2018   ₹220  "
      ]
     },
     "execution_count": 112,
     "metadata": {},
     "output_type": "execute_result"
    }
   ],
   "source": [
    "df[df['Category'].isnull()]\n"
   ]
  },
  {
   "cell_type": "code",
   "execution_count": 113,
   "metadata": {},
   "outputs": [
    {
     "data": {
      "text/plain": [
       "Books                                11\n",
       "Mobiles & Accessories                 6\n",
       "Bags, Wallets & Belts                 2\n",
       "Home Entertainment                    1\n",
       "Wearable Smart Devices                1\n",
       "Health & Personal Care Appliances     1\n",
       "Audio & Video                         1\n",
       "Footwear                              1\n",
       "Beauty and Grooming                   1\n",
       "Computers                             1\n",
       "Name: Category, dtype: int64"
      ]
     },
     "execution_count": 113,
     "metadata": {},
     "output_type": "execute_result"
    }
   ],
   "source": [
    "df['Category'].value_counts()\n",
    "\n",
    "#Since, majority of the orders are books, we assume that the missing data\n",
    "#most probably belons to a book category.\n",
    "#Also, this can be manually checked since the dataset is very small"
   ]
  },
  {
   "cell_type": "code",
   "execution_count": 114,
   "metadata": {},
   "outputs": [],
   "source": [
    "df['Category'].fillna(value='Books', inplace=True)"
   ]
  },
  {
   "cell_type": "code",
   "execution_count": 115,
   "metadata": {},
   "outputs": [
    {
     "data": {
      "text/plain": [
       "Unnamed: 0       0\n",
       "Purchase Date    0\n",
       "Titles           0\n",
       "Category         0\n",
       "Status           0\n",
       "Prices           0\n",
       "dtype: int64"
      ]
     },
     "execution_count": 115,
     "metadata": {},
     "output_type": "execute_result"
    }
   ],
   "source": [
    "df.isnull().sum()\n",
    "#The missing values are dealt with."
   ]
  },
  {
   "cell_type": "code",
   "execution_count": 116,
   "metadata": {},
   "outputs": [
    {
     "data": {
      "text/plain": [
       "Books                                13\n",
       "Mobiles & Accessories                 6\n",
       "Bags, Wallets & Belts                 2\n",
       "Home Entertainment                    1\n",
       "Wearable Smart Devices                1\n",
       "Health & Personal Care Appliances     1\n",
       "Audio & Video                         1\n",
       "Footwear                              1\n",
       "Beauty and Grooming                   1\n",
       "Computers                             1\n",
       "Name: Category, dtype: int64"
      ]
     },
     "execution_count": 116,
     "metadata": {},
     "output_type": "execute_result"
    }
   ],
   "source": [
    "category = df['Category'].value_counts()\n",
    "category"
   ]
  },
  {
   "cell_type": "code",
   "execution_count": 143,
   "metadata": {},
   "outputs": [
    {
     "data": {
      "text/plain": [
       "Text(0.5, 0, 'Number of Orders')"
      ]
     },
     "execution_count": 143,
     "metadata": {},
     "output_type": "execute_result"
    },
    {
     "data": {
      "image/png": "[encoded data removed]",
      "text/plain": [
       "<Figure size 864x504 with 1 Axes>"
      ]
     },
     "metadata": {
      "needs_background": "light"
     },
     "output_type": "display_data"
    }
   ],
   "source": [
    "plt.figure(figsize = (12,7))\n",
    "plt.barh(category.index, category.values, tick_label=category.index)\n",
    "plt.legend(labels = ['Total Orders'])\n",
    "\n",
    "plt.xlabel(\"Number of Orders\")"
   ]
  },
  {
   "cell_type": "code",
   "execution_count": 61,
   "metadata": {},
   "outputs": [
    {
     "data": {
      "text/plain": [
       "str"
      ]
     },
     "execution_count": 61,
     "metadata": {},
     "output_type": "execute_result"
    }
   ],
   "source": [
    "type(df.Prices[0]) \n",
    "#The data type of Prices is string. We need to convert it. \n",
    "#Before conversion we need to clear any kind of signals\n"
   ]
  },
  {
   "cell_type": "code",
   "execution_count": 118,
   "metadata": {},
   "outputs": [],
   "source": [
    "#importing Regular Expressions to clean data\n",
    "import re\n",
    "new = []\n",
    "for price in df.Prices:\n",
    "    if '+' in price:\n",
    "        price = price.split('+')[0]\n",
    "    new.append(re.findall('[0-9]+', price))\n"
   ]
  },
  {
   "cell_type": "code",
   "execution_count": 120,
   "metadata": {},
   "outputs": [],
   "source": [
    "new_prices =[]\n",
    "for n in new:\n",
    "    p = ''\n",
    "    for n_char in n:\n",
    "        p+=n_char\n",
    "    new_prices.append(int(p))\n"
   ]
  },
  {
   "cell_type": "code",
   "execution_count": 121,
   "metadata": {},
   "outputs": [],
   "source": [
    "df.drop(columns='Prices', axis=1, inplace=True)"
   ]
  },
  {
   "cell_type": "code",
   "execution_count": 122,
   "metadata": {},
   "outputs": [
    {
     "data": {
      "text/html": [
       "<div>\n",
       "<style scoped>\n",
       "    .dataframe tbody tr th:only-of-type {\n",
       "        vertical-align: middle;\n",
       "    }\n",
       "\n",
       "    .dataframe tbody tr th {\n",
       "        vertical-align: top;\n",
       "    }\n",
       "\n",
       "    .dataframe thead th {\n",
       "        text-align: right;\n",
       "    }\n",
       "</style>\n",
       "<table border=\"1\" class=\"dataframe\">\n",
       "  <thead>\n",
       "    <tr style=\"text-align: right;\">\n",
       "      <th></th>\n",
       "      <th>Unnamed: 0</th>\n",
       "      <th>Purchase Date</th>\n",
       "      <th>Titles</th>\n",
       "      <th>Category</th>\n",
       "      <th>Status</th>\n",
       "      <th>Prices</th>\n",
       "    </tr>\n",
       "  </thead>\n",
       "  <tbody>\n",
       "    <tr>\n",
       "      <th>0</th>\n",
       "      <td>0</td>\n",
       "      <td>Sat, 19th Sep</td>\n",
       "      <td>Realme 7 (Mist Blue, 64 GB)</td>\n",
       "      <td>Mobiles &amp; Accessories</td>\n",
       "      <td>Delivery expected between Today, Sep 24 and Oc...</td>\n",
       "      <td>14999</td>\n",
       "    </tr>\n",
       "    <tr>\n",
       "      <th>1</th>\n",
       "      <td>1</td>\n",
       "      <td>Sat, 19th Sep</td>\n",
       "      <td>Realme 7 (Mist Blue, 64 GB)</td>\n",
       "      <td>Mobiles &amp; Accessories</td>\n",
       "      <td>Delivery expected between Today, Sep 24 and Oc...</td>\n",
       "      <td>14999</td>\n",
       "    </tr>\n",
       "    <tr>\n",
       "      <th>2</th>\n",
       "      <td>2</td>\n",
       "      <td>Sat, 29th Aug</td>\n",
       "      <td>Amish's Ramachandra Series - Ram, Sita &amp;...</td>\n",
       "      <td>Books</td>\n",
       "      <td>Delivered on Sep 10</td>\n",
       "      <td>369</td>\n",
       "    </tr>\n",
       "    <tr>\n",
       "      <th>3</th>\n",
       "      <td>3</td>\n",
       "      <td>Sat, 29th Aug</td>\n",
       "      <td>The Richest Man In Babylon</td>\n",
       "      <td>Books</td>\n",
       "      <td>Delivered on Sep 09</td>\n",
       "      <td>175</td>\n",
       "    </tr>\n",
       "    <tr>\n",
       "      <th>4</th>\n",
       "      <td>4</td>\n",
       "      <td>Sat, 29th Aug</td>\n",
       "      <td>HOW TO TALK TO ANYONE</td>\n",
       "      <td>Books</td>\n",
       "      <td>Delivered on Sep 09</td>\n",
       "      <td>184</td>\n",
       "    </tr>\n",
       "  </tbody>\n",
       "</table>\n",
       "</div>"
      ],
      "text/plain": [
       "   Unnamed: 0  Purchase Date                                       Titles  \\\n",
       "0           0  Sat, 19th Sep                  Realme 7 (Mist Blue, 64 GB)   \n",
       "1           1  Sat, 19th Sep                  Realme 7 (Mist Blue, 64 GB)   \n",
       "2           2  Sat, 29th Aug  Amish's Ramachandra Series - Ram, Sita &...   \n",
       "3           3  Sat, 29th Aug                   The Richest Man In Babylon   \n",
       "4           4  Sat, 29th Aug                        HOW TO TALK TO ANYONE   \n",
       "\n",
       "                Category                                             Status  \\\n",
       "0  Mobiles & Accessories  Delivery expected between Today, Sep 24 and Oc...   \n",
       "1  Mobiles & Accessories  Delivery expected between Today, Sep 24 and Oc...   \n",
       "2                  Books                                Delivered on Sep 10   \n",
       "3                  Books                                Delivered on Sep 09   \n",
       "4                  Books                                Delivered on Sep 09   \n",
       "\n",
       "   Prices  \n",
       "0   14999  \n",
       "1   14999  \n",
       "2     369  \n",
       "3     175  \n",
       "4     184  "
      ]
     },
     "execution_count": 122,
     "metadata": {},
     "output_type": "execute_result"
    }
   ],
   "source": [
    "df['Prices'] = new_prices\n",
    "df.head()"
   ]
  },
  {
   "cell_type": "code",
   "execution_count": 144,
   "metadata": {},
   "outputs": [],
   "source": [
    "category_expenditure = df.pivot_table(values=\"Prices\", index=\"Category\", aggfunc='sum')"
   ]
  },
  {
   "cell_type": "code",
   "execution_count": 147,
   "metadata": {},
   "outputs": [],
   "source": [
    "category_expenditure.sort_values(by='Prices', inplace=True)"
   ]
  },
  {
   "cell_type": "code",
   "execution_count": 170,
   "metadata": {
    "scrolled": false
   },
   "outputs": [
    {
     "data": {
      "image/png": "[encoded data removed]",
      "text/plain": [
       "<Figure size 864x576 with 1 Axes>"
      ]
     },
     "metadata": {
      "needs_background": "light"
     },
     "output_type": "display_data"
    }
   ],
   "source": [
    "ax = category_expenditure['Prices'].plot(kind='barh', figsize=(12,8), color='red')\n",
    "ax.set_xlabel(\"Total Expenditure per Category (INR)\")\n",
    "ax.set_ylabel(\"\")\n",
    "for i in ax.patches:\n",
    "    ax.text(i.get_width()+0.8, i.get_y()+0.2, str(i.get_width()))"
   ]
  },
  {
   "cell_type": "code",
   "execution_count": null,
   "metadata": {},
   "outputs": [],
   "source": []
  }
 ],
 "metadata": {
  "kernelspec": {
   "display_name": "Python 3",
   "language": "python",
   "name": "python3"
  },
  "language_info": {
   "codemirror_mode": {
    "name": "ipython",
    "version": 3
   },
   "file_extension": ".py",
   "mimetype": "text/x-python",
   "name": "python",
   "nbconvert_exporter": "python",
   "pygments_lexer": "ipython3",
   "version": "3.7.6"
  }
 },
 "nbformat": 4,
 "nbformat_minor": 4
}
