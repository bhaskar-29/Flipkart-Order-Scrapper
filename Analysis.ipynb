{
 "cells": [
  {
   "cell_type": "code",
   "execution_count": 3,
   "metadata": {},
   "outputs": [],
   "source": [
    "import pandas as pd\n",
    "import matplotlib.pyplot as plt\n",
    "import seaborn as sns\n",
    "import numpy as np\n",
    "%matplotlib inline"
   ]
  },
  {
   "cell_type": "code",
   "execution_count": 4,
   "metadata": {},
   "outputs": [
    {
     "data": {
      "text/html": [
       "<div>\n",
       "<style scoped>\n",
       "    .dataframe tbody tr th:only-of-type {\n",
       "        vertical-align: middle;\n",
       "    }\n",
       "\n",
       "    .dataframe tbody tr th {\n",
       "        vertical-align: top;\n",
       "    }\n",
       "\n",
       "    .dataframe thead th {\n",
       "        text-align: right;\n",
       "    }\n",
       "</style>\n",
       "<table border=\"1\" class=\"dataframe\">\n",
       "  <thead>\n",
       "    <tr style=\"text-align: right;\">\n",
       "      <th></th>\n",
       "      <th>Unnamed: 0</th>\n",
       "      <th>Purchase Date</th>\n",
       "      <th>Titles</th>\n",
       "      <th>Category</th>\n",
       "      <th>Status</th>\n",
       "      <th>Prices</th>\n",
       "    </tr>\n",
       "  </thead>\n",
       "  <tbody>\n",
       "    <tr>\n",
       "      <th>0</th>\n",
       "      <td>0</td>\n",
       "      <td>Sat, 19th Sep</td>\n",
       "      <td>Realme 7 (Mist Blue, 64 GB)</td>\n",
       "      <td>Mobiles &amp; Accessories</td>\n",
       "      <td>Delivery expected between Today, Sep 24 and Oc...</td>\n",
       "      <td>₹14,999</td>\n",
       "    </tr>\n",
       "    <tr>\n",
       "      <th>1</th>\n",
       "      <td>1</td>\n",
       "      <td>Sat, 19th Sep</td>\n",
       "      <td>Realme 7 (Mist Blue, 64 GB)</td>\n",
       "      <td>Mobiles &amp; Accessories</td>\n",
       "      <td>Delivery expected between Today, Sep 24 and Oc...</td>\n",
       "      <td>₹14,999</td>\n",
       "    </tr>\n",
       "    <tr>\n",
       "      <th>2</th>\n",
       "      <td>2</td>\n",
       "      <td>Sat, 29th Aug</td>\n",
       "      <td>Amish's Ramachandra Series - Ram, Sita &amp;...</td>\n",
       "      <td>Books</td>\n",
       "      <td>Delivered on Sep 10</td>\n",
       "      <td>₹369</td>\n",
       "    </tr>\n",
       "    <tr>\n",
       "      <th>3</th>\n",
       "      <td>3</td>\n",
       "      <td>Sat, 29th Aug</td>\n",
       "      <td>The Richest Man In Babylon</td>\n",
       "      <td>Books</td>\n",
       "      <td>Delivered on Sep 09</td>\n",
       "      <td>₹175</td>\n",
       "    </tr>\n",
       "    <tr>\n",
       "      <th>4</th>\n",
       "      <td>4</td>\n",
       "      <td>Sat, 29th Aug</td>\n",
       "      <td>HOW TO TALK TO ANYONE</td>\n",
       "      <td>Books</td>\n",
       "      <td>Delivered on Sep 09</td>\n",
       "      <td>₹184</td>\n",
       "    </tr>\n",
       "  </tbody>\n",
       "</table>\n",
       "</div>"
      ],
      "text/plain": [
       "   Unnamed: 0  Purchase Date                                       Titles  \\\n",
       "0           0  Sat, 19th Sep                  Realme 7 (Mist Blue, 64 GB)   \n",
       "1           1  Sat, 19th Sep                  Realme 7 (Mist Blue, 64 GB)   \n",
       "2           2  Sat, 29th Aug  Amish's Ramachandra Series - Ram, Sita &...   \n",
       "3           3  Sat, 29th Aug                   The Richest Man In Babylon   \n",
       "4           4  Sat, 29th Aug                        HOW TO TALK TO ANYONE   \n",
       "\n",
       "                Category                                             Status  \\\n",
       "0  Mobiles & Accessories  Delivery expected between Today, Sep 24 and Oc...   \n",
       "1  Mobiles & Accessories  Delivery expected between Today, Sep 24 and Oc...   \n",
       "2                  Books                                Delivered on Sep 10   \n",
       "3                  Books                                Delivered on Sep 09   \n",
       "4                  Books                                Delivered on Sep 09   \n",
       "\n",
       "    Prices  \n",
       "0  ₹14,999  \n",
       "1  ₹14,999  \n",
       "2     ₹369  \n",
       "3     ₹175  \n",
       "4     ₹184  "
      ]
     },
     "execution_count": 4,
     "metadata": {},
     "output_type": "execute_result"
    }
   ],
   "source": [
    "df = pd.read_excel('Orders_Details.xlsx')\n",
    "df.head()"
   ]
  },
  {
   "cell_type": "code",
   "execution_count": 5,
   "metadata": {},
   "outputs": [],
   "source": [
    "df.drop('Unnamed: 0', axis=1, inplace=True)"
   ]
  },
  {
   "cell_type": "code",
   "execution_count": 6,
   "metadata": {},
   "outputs": [
    {
     "name": "stdout",
     "output_type": "stream",
     "text": [
      "<class 'pandas.core.frame.DataFrame'>\n",
      "RangeIndex: 28 entries, 0 to 27\n",
      "Data columns (total 5 columns):\n",
      " #   Column         Non-Null Count  Dtype \n",
      "---  ------         --------------  ----- \n",
      " 0   Purchase Date  28 non-null     object\n",
      " 1   Titles         28 non-null     object\n",
      " 2   Category       26 non-null     object\n",
      " 3   Status         28 non-null     object\n",
      " 4   Prices         28 non-null     object\n",
      "dtypes: object(5)\n",
      "memory usage: 1.2+ KB\n"
     ]
    }
   ],
   "source": [
    "df.info()"
   ]
  },
  {
   "cell_type": "code",
   "execution_count": 7,
   "metadata": {},
   "outputs": [
    {
     "data": {
      "text/plain": [
       "Purchase Date    0\n",
       "Titles           0\n",
       "Category         2\n",
       "Status           0\n",
       "Prices           0\n",
       "dtype: int64"
      ]
     },
     "execution_count": 7,
     "metadata": {},
     "output_type": "execute_result"
    }
   ],
   "source": [
    "df.isnull().sum()\n",
    "#Number of missing values. Since, the data set is very small and missing values are even smaller,\n",
    "#let's directly look at the missing values"
   ]
  },
  {
   "cell_type": "code",
   "execution_count": 8,
   "metadata": {},
   "outputs": [
    {
     "data": {
      "text/html": [
       "<div>\n",
       "<style scoped>\n",
       "    .dataframe tbody tr th:only-of-type {\n",
       "        vertical-align: middle;\n",
       "    }\n",
       "\n",
       "    .dataframe tbody tr th {\n",
       "        vertical-align: top;\n",
       "    }\n",
       "\n",
       "    .dataframe thead th {\n",
       "        text-align: right;\n",
       "    }\n",
       "</style>\n",
       "<table border=\"1\" class=\"dataframe\">\n",
       "  <thead>\n",
       "    <tr style=\"text-align: right;\">\n",
       "      <th></th>\n",
       "      <th>Purchase Date</th>\n",
       "      <th>Titles</th>\n",
       "      <th>Category</th>\n",
       "      <th>Status</th>\n",
       "      <th>Prices</th>\n",
       "    </tr>\n",
       "  </thead>\n",
       "  <tbody>\n",
       "    <tr>\n",
       "      <th>25</th>\n",
       "      <td>Wed, 16th May</td>\n",
       "      <td>I Am Malala</td>\n",
       "      <td>NaN</td>\n",
       "      <td>Delivered on May 20, 2018</td>\n",
       "      <td>₹203</td>\n",
       "    </tr>\n",
       "    <tr>\n",
       "      <th>27</th>\n",
       "      <td>Fri, 20th Apr</td>\n",
       "      <td>The Secret Of The Nagas (English, Paperb...</td>\n",
       "      <td>NaN</td>\n",
       "      <td>Delivered on Apr 22, 2018</td>\n",
       "      <td>₹220</td>\n",
       "    </tr>\n",
       "  </tbody>\n",
       "</table>\n",
       "</div>"
      ],
      "text/plain": [
       "    Purchase Date                                       Titles Category  \\\n",
       "25  Wed, 16th May                                  I Am Malala      NaN   \n",
       "27  Fri, 20th Apr  The Secret Of The Nagas (English, Paperb...      NaN   \n",
       "\n",
       "                       Status Prices  \n",
       "25  Delivered on May 20, 2018   ₹203  \n",
       "27  Delivered on Apr 22, 2018   ₹220  "
      ]
     },
     "execution_count": 8,
     "metadata": {},
     "output_type": "execute_result"
    }
   ],
   "source": [
    "df[df['Category'].isnull()]\n"
   ]
  },
  {
   "cell_type": "code",
   "execution_count": 9,
   "metadata": {},
   "outputs": [
    {
     "data": {
      "text/plain": [
       "Books                                11\n",
       "Mobiles & Accessories                 6\n",
       "Bags, Wallets & Belts                 2\n",
       "Footwear                              1\n",
       "Health & Personal Care Appliances     1\n",
       "Computers                             1\n",
       "Home Entertainment                    1\n",
       "Wearable Smart Devices                1\n",
       "Beauty and Grooming                   1\n",
       "Audio & Video                         1\n",
       "Name: Category, dtype: int64"
      ]
     },
     "execution_count": 9,
     "metadata": {},
     "output_type": "execute_result"
    }
   ],
   "source": [
    "df['Category'].value_counts()\n",
    "\n",
    "#Since, majority of the orders are books, we assume that the missing data\n",
    "#most probably belons to a book category.\n",
    "#Also, this can be manually checked since the dataset is very small"
   ]
  },
  {
   "cell_type": "code",
   "execution_count": 10,
   "metadata": {},
   "outputs": [],
   "source": [
    "df['Category'].fillna(value='Books', inplace=True)"
   ]
  },
  {
   "cell_type": "code",
   "execution_count": 11,
   "metadata": {},
   "outputs": [
    {
     "data": {
      "text/plain": [
       "Purchase Date    0\n",
       "Titles           0\n",
       "Category         0\n",
       "Status           0\n",
       "Prices           0\n",
       "dtype: int64"
      ]
     },
     "execution_count": 11,
     "metadata": {},
     "output_type": "execute_result"
    }
   ],
   "source": [
    "df.isnull().sum()\n",
    "#The missing values are dealt with."
   ]
  },
  {
   "cell_type": "code",
   "execution_count": 12,
   "metadata": {},
   "outputs": [
    {
     "data": {
      "text/plain": [
       "Books                                13\n",
       "Mobiles & Accessories                 6\n",
       "Bags, Wallets & Belts                 2\n",
       "Footwear                              1\n",
       "Health & Personal Care Appliances     1\n",
       "Computers                             1\n",
       "Home Entertainment                    1\n",
       "Wearable Smart Devices                1\n",
       "Beauty and Grooming                   1\n",
       "Audio & Video                         1\n",
       "Name: Category, dtype: int64"
      ]
     },
     "execution_count": 12,
     "metadata": {},
     "output_type": "execute_result"
    }
   ],
   "source": [
    "category = df['Category'].value_counts()\n",
    "category"
   ]
  },
  {
   "cell_type": "code",
   "execution_count": 33,
   "metadata": {},
   "outputs": [
    {
     "data": {
      "text/plain": [
       "Text(0.5, 0, 'Number of Orders')"
      ]
     },
     "execution_count": 33,
     "metadata": {},
     "output_type": "execute_result"
    },
    {
     "data": {
      "image/png": "[encoded data removed]",
      "text/plain": [
       "<Figure size 864x504 with 1 Axes>"
      ]
     },
     "metadata": {},
     "output_type": "display_data"
    }
   ],
   "source": [
    "sns.set_style('whitegrid')\n",
    "plt.figure(figsize = (12,7))\n",
    "plt.barh(category.index, category.values, tick_label=category.index)\n",
    "plt.legend(labels = ['Total Orders'])\n",
    "plt.xlabel(\"Number of Orders\")"
   ]
  },
  {
   "cell_type": "code",
   "execution_count": 14,
   "metadata": {},
   "outputs": [
    {
     "data": {
      "text/plain": [
       "str"
      ]
     },
     "execution_count": 14,
     "metadata": {},
     "output_type": "execute_result"
    }
   ],
   "source": [
    "type(df.Prices[0]) \n",
    "#The data type of Prices is string. We need to convert it. \n",
    "#Before conversion we need to clear any kind of signals\n"
   ]
  },
  {
   "cell_type": "code",
   "execution_count": 15,
   "metadata": {},
   "outputs": [],
   "source": [
    "#importing Regular Expressions to clean data\n",
    "import re\n",
    "new = []\n",
    "for price in df.Prices:\n",
    "    if '+' in price:\n",
    "        price = price.split('+')[0]\n",
    "    new.append(re.findall('[0-9]+', price))\n"
   ]
  },
  {
   "cell_type": "code",
   "execution_count": 16,
   "metadata": {},
   "outputs": [],
   "source": [
    "new_prices =[]\n",
    "for n in new:\n",
    "    p = ''\n",
    "    for n_char in n:\n",
    "        p+=n_char\n",
    "    new_prices.append(int(p))\n"
   ]
  },
  {
   "cell_type": "code",
   "execution_count": 17,
   "metadata": {},
   "outputs": [],
   "source": [
    "df.drop(columns='Prices', axis=1, inplace=True)"
   ]
  },
  {
   "cell_type": "code",
   "execution_count": 18,
   "metadata": {},
   "outputs": [
    {
     "data": {
      "text/html": [
       "<div>\n",
       "<style scoped>\n",
       "    .dataframe tbody tr th:only-of-type {\n",
       "        vertical-align: middle;\n",
       "    }\n",
       "\n",
       "    .dataframe tbody tr th {\n",
       "        vertical-align: top;\n",
       "    }\n",
       "\n",
       "    .dataframe thead th {\n",
       "        text-align: right;\n",
       "    }\n",
       "</style>\n",
       "<table border=\"1\" class=\"dataframe\">\n",
       "  <thead>\n",
       "    <tr style=\"text-align: right;\">\n",
       "      <th></th>\n",
       "      <th>Purchase Date</th>\n",
       "      <th>Titles</th>\n",
       "      <th>Category</th>\n",
       "      <th>Status</th>\n",
       "      <th>Prices</th>\n",
       "    </tr>\n",
       "  </thead>\n",
       "  <tbody>\n",
       "    <tr>\n",
       "      <th>0</th>\n",
       "      <td>Sat, 19th Sep</td>\n",
       "      <td>Realme 7 (Mist Blue, 64 GB)</td>\n",
       "      <td>Mobiles &amp; Accessories</td>\n",
       "      <td>Delivery expected between Today, Sep 24 and Oc...</td>\n",
       "      <td>14999</td>\n",
       "    </tr>\n",
       "    <tr>\n",
       "      <th>1</th>\n",
       "      <td>Sat, 19th Sep</td>\n",
       "      <td>Realme 7 (Mist Blue, 64 GB)</td>\n",
       "      <td>Mobiles &amp; Accessories</td>\n",
       "      <td>Delivery expected between Today, Sep 24 and Oc...</td>\n",
       "      <td>14999</td>\n",
       "    </tr>\n",
       "    <tr>\n",
       "      <th>2</th>\n",
       "      <td>Sat, 29th Aug</td>\n",
       "      <td>Amish's Ramachandra Series - Ram, Sita &amp;...</td>\n",
       "      <td>Books</td>\n",
       "      <td>Delivered on Sep 10</td>\n",
       "      <td>369</td>\n",
       "    </tr>\n",
       "    <tr>\n",
       "      <th>3</th>\n",
       "      <td>Sat, 29th Aug</td>\n",
       "      <td>The Richest Man In Babylon</td>\n",
       "      <td>Books</td>\n",
       "      <td>Delivered on Sep 09</td>\n",
       "      <td>175</td>\n",
       "    </tr>\n",
       "    <tr>\n",
       "      <th>4</th>\n",
       "      <td>Sat, 29th Aug</td>\n",
       "      <td>HOW TO TALK TO ANYONE</td>\n",
       "      <td>Books</td>\n",
       "      <td>Delivered on Sep 09</td>\n",
       "      <td>184</td>\n",
       "    </tr>\n",
       "  </tbody>\n",
       "</table>\n",
       "</div>"
      ],
      "text/plain": [
       "   Purchase Date                                       Titles  \\\n",
       "0  Sat, 19th Sep                  Realme 7 (Mist Blue, 64 GB)   \n",
       "1  Sat, 19th Sep                  Realme 7 (Mist Blue, 64 GB)   \n",
       "2  Sat, 29th Aug  Amish's Ramachandra Series - Ram, Sita &...   \n",
       "3  Sat, 29th Aug                   The Richest Man In Babylon   \n",
       "4  Sat, 29th Aug                        HOW TO TALK TO ANYONE   \n",
       "\n",
       "                Category                                             Status  \\\n",
       "0  Mobiles & Accessories  Delivery expected between Today, Sep 24 and Oc...   \n",
       "1  Mobiles & Accessories  Delivery expected between Today, Sep 24 and Oc...   \n",
       "2                  Books                                Delivered on Sep 10   \n",
       "3                  Books                                Delivered on Sep 09   \n",
       "4                  Books                                Delivered on Sep 09   \n",
       "\n",
       "   Prices  \n",
       "0   14999  \n",
       "1   14999  \n",
       "2     369  \n",
       "3     175  \n",
       "4     184  "
      ]
     },
     "execution_count": 18,
     "metadata": {},
     "output_type": "execute_result"
    }
   ],
   "source": [
    "df['Prices'] = new_prices\n",
    "df.head()"
   ]
  },
  {
   "cell_type": "code",
   "execution_count": 19,
   "metadata": {},
   "outputs": [],
   "source": [
    "category_expenditure = df.pivot_table(values=\"Prices\", index=\"Category\", aggfunc='sum')"
   ]
  },
  {
   "cell_type": "code",
   "execution_count": null,
   "metadata": {},
   "outputs": [],
   "source": []
  },
  {
   "cell_type": "code",
   "execution_count": 20,
   "metadata": {},
   "outputs": [],
   "source": [
    "category_expenditure.sort_values(by='Prices', inplace=True)"
   ]
  },
  {
   "cell_type": "code",
   "execution_count": 21,
   "metadata": {
    "scrolled": false
   },
   "outputs": [
    {
     "data": {
      "image/png": "[encoded data removed]",
      "text/plain": [
       "<Figure size 864x576 with 1 Axes>"
      ]
     },
     "metadata": {},
     "output_type": "display_data"
    }
   ],
   "source": [
    "sns.set_style('whitegrid')\n",
    "ax = category_expenditure['Prices'].plot(kind='barh', figsize=(12,8), color='red')\n",
    "ax.set_xlabel(\"Total Expenditure per Category (INR)\")\n",
    "ax.set_ylabel(\"\")\n",
    "for i in ax.patches:\n",
    "    ax.text(i.get_width()+0.8, i.get_y()+0.2, str(i.get_width()))"
   ]
  },
  {
   "cell_type": "code",
   "execution_count": 22,
   "metadata": {},
   "outputs": [],
   "source": [
    "df['Purchase Month'] = df['Purchase Date'].apply(lambda x: x[-3:])"
   ]
  },
  {
   "cell_type": "code",
   "execution_count": 23,
   "metadata": {},
   "outputs": [
    {
     "data": {
      "text/html": [
       "<div>\n",
       "<style scoped>\n",
       "    .dataframe tbody tr th:only-of-type {\n",
       "        vertical-align: middle;\n",
       "    }\n",
       "\n",
       "    .dataframe tbody tr th {\n",
       "        vertical-align: top;\n",
       "    }\n",
       "\n",
       "    .dataframe thead th {\n",
       "        text-align: right;\n",
       "    }\n",
       "</style>\n",
       "<table border=\"1\" class=\"dataframe\">\n",
       "  <thead>\n",
       "    <tr style=\"text-align: right;\">\n",
       "      <th></th>\n",
       "      <th>Purchase Date</th>\n",
       "      <th>Titles</th>\n",
       "      <th>Category</th>\n",
       "      <th>Status</th>\n",
       "      <th>Prices</th>\n",
       "      <th>Purchase Month</th>\n",
       "    </tr>\n",
       "  </thead>\n",
       "  <tbody>\n",
       "    <tr>\n",
       "      <th>0</th>\n",
       "      <td>Sat, 19th Sep</td>\n",
       "      <td>Realme 7 (Mist Blue, 64 GB)</td>\n",
       "      <td>Mobiles &amp; Accessories</td>\n",
       "      <td>Delivery expected between Today, Sep 24 and Oc...</td>\n",
       "      <td>14999</td>\n",
       "      <td>Sep</td>\n",
       "    </tr>\n",
       "    <tr>\n",
       "      <th>1</th>\n",
       "      <td>Sat, 19th Sep</td>\n",
       "      <td>Realme 7 (Mist Blue, 64 GB)</td>\n",
       "      <td>Mobiles &amp; Accessories</td>\n",
       "      <td>Delivery expected between Today, Sep 24 and Oc...</td>\n",
       "      <td>14999</td>\n",
       "      <td>Sep</td>\n",
       "    </tr>\n",
       "    <tr>\n",
       "      <th>2</th>\n",
       "      <td>Sat, 29th Aug</td>\n",
       "      <td>Amish's Ramachandra Series - Ram, Sita &amp;...</td>\n",
       "      <td>Books</td>\n",
       "      <td>Delivered on Sep 10</td>\n",
       "      <td>369</td>\n",
       "      <td>Aug</td>\n",
       "    </tr>\n",
       "    <tr>\n",
       "      <th>3</th>\n",
       "      <td>Sat, 29th Aug</td>\n",
       "      <td>The Richest Man In Babylon</td>\n",
       "      <td>Books</td>\n",
       "      <td>Delivered on Sep 09</td>\n",
       "      <td>175</td>\n",
       "      <td>Aug</td>\n",
       "    </tr>\n",
       "    <tr>\n",
       "      <th>4</th>\n",
       "      <td>Sat, 29th Aug</td>\n",
       "      <td>HOW TO TALK TO ANYONE</td>\n",
       "      <td>Books</td>\n",
       "      <td>Delivered on Sep 09</td>\n",
       "      <td>184</td>\n",
       "      <td>Aug</td>\n",
       "    </tr>\n",
       "  </tbody>\n",
       "</table>\n",
       "</div>"
      ],
      "text/plain": [
       "   Purchase Date                                       Titles  \\\n",
       "0  Sat, 19th Sep                  Realme 7 (Mist Blue, 64 GB)   \n",
       "1  Sat, 19th Sep                  Realme 7 (Mist Blue, 64 GB)   \n",
       "2  Sat, 29th Aug  Amish's Ramachandra Series - Ram, Sita &...   \n",
       "3  Sat, 29th Aug                   The Richest Man In Babylon   \n",
       "4  Sat, 29th Aug                        HOW TO TALK TO ANYONE   \n",
       "\n",
       "                Category                                             Status  \\\n",
       "0  Mobiles & Accessories  Delivery expected between Today, Sep 24 and Oc...   \n",
       "1  Mobiles & Accessories  Delivery expected between Today, Sep 24 and Oc...   \n",
       "2                  Books                                Delivered on Sep 10   \n",
       "3                  Books                                Delivered on Sep 09   \n",
       "4                  Books                                Delivered on Sep 09   \n",
       "\n",
       "   Prices Purchase Month  \n",
       "0   14999            Sep  \n",
       "1   14999            Sep  \n",
       "2     369            Aug  \n",
       "3     175            Aug  \n",
       "4     184            Aug  "
      ]
     },
     "execution_count": 23,
     "metadata": {},
     "output_type": "execute_result"
    }
   ],
   "source": [
    "df.head()"
   ]
  },
  {
   "cell_type": "code",
   "execution_count": 24,
   "metadata": {},
   "outputs": [],
   "source": [
    "months = {\"Jan\":0, \"Feb\":1, \"Mar\":2, \"Apr\":3, \"May\":4, \"Jun\":5, \"Jul\":6, \"Aug\":7, \"Sep\":8, \"Oct\":9, \"Nov\":10, \"Dec\":11}"
   ]
  },
  {
   "cell_type": "code",
   "execution_count": 25,
   "metadata": {},
   "outputs": [],
   "source": [
    "df['Purchase Month'] = df['Purchase Month'].map(months)"
   ]
  },
  {
   "cell_type": "code",
   "execution_count": 26,
   "metadata": {},
   "outputs": [],
   "source": [
    "months_exp = df.pivot_table(values='Prices', index='Purchase Month', aggfunc=sum)"
   ]
  },
  {
   "cell_type": "code",
   "execution_count": 27,
   "metadata": {},
   "outputs": [],
   "source": [
    "def change(row):\n",
    "    for key, value in months.items():\n",
    "        if row == value:\n",
    "            return key"
   ]
  },
  {
   "cell_type": "code",
   "execution_count": 28,
   "metadata": {},
   "outputs": [],
   "source": [
    "months_exp.sort_values(by='Purchase Month', inplace=True)"
   ]
  },
  {
   "cell_type": "code",
   "execution_count": 29,
   "metadata": {},
   "outputs": [],
   "source": [
    "months_exp.reset_index(inplace=True)"
   ]
  },
  {
   "cell_type": "code",
   "execution_count": 30,
   "metadata": {},
   "outputs": [],
   "source": [
    "months_exp['Purchase Month'] = months_exp['Purchase Month'].apply(change)"
   ]
  },
  {
   "cell_type": "code",
   "execution_count": 31,
   "metadata": {},
   "outputs": [
    {
     "data": {
      "text/html": [
       "<div>\n",
       "<style scoped>\n",
       "    .dataframe tbody tr th:only-of-type {\n",
       "        vertical-align: middle;\n",
       "    }\n",
       "\n",
       "    .dataframe tbody tr th {\n",
       "        vertical-align: top;\n",
       "    }\n",
       "\n",
       "    .dataframe thead th {\n",
       "        text-align: right;\n",
       "    }\n",
       "</style>\n",
       "<table border=\"1\" class=\"dataframe\">\n",
       "  <thead>\n",
       "    <tr style=\"text-align: right;\">\n",
       "      <th></th>\n",
       "      <th>Purchase Month</th>\n",
       "      <th>Prices</th>\n",
       "    </tr>\n",
       "  </thead>\n",
       "  <tbody>\n",
       "    <tr>\n",
       "      <th>0</th>\n",
       "      <td>Jan</td>\n",
       "      <td>1249</td>\n",
       "    </tr>\n",
       "    <tr>\n",
       "      <th>1</th>\n",
       "      <td>Feb</td>\n",
       "      <td>404</td>\n",
       "    </tr>\n",
       "    <tr>\n",
       "      <th>2</th>\n",
       "      <td>Mar</td>\n",
       "      <td>474</td>\n",
       "    </tr>\n",
       "    <tr>\n",
       "      <th>3</th>\n",
       "      <td>Apr</td>\n",
       "      <td>392</td>\n",
       "    </tr>\n",
       "    <tr>\n",
       "      <th>4</th>\n",
       "      <td>May</td>\n",
       "      <td>43324</td>\n",
       "    </tr>\n",
       "    <tr>\n",
       "      <th>5</th>\n",
       "      <td>Jun</td>\n",
       "      <td>11349</td>\n",
       "    </tr>\n",
       "    <tr>\n",
       "      <th>6</th>\n",
       "      <td>Aug</td>\n",
       "      <td>2046</td>\n",
       "    </tr>\n",
       "    <tr>\n",
       "      <th>7</th>\n",
       "      <td>Sep</td>\n",
       "      <td>29998</td>\n",
       "    </tr>\n",
       "    <tr>\n",
       "      <th>8</th>\n",
       "      <td>Oct</td>\n",
       "      <td>19499</td>\n",
       "    </tr>\n",
       "    <tr>\n",
       "      <th>9</th>\n",
       "      <td>Dec</td>\n",
       "      <td>1712</td>\n",
       "    </tr>\n",
       "  </tbody>\n",
       "</table>\n",
       "</div>"
      ],
      "text/plain": [
       "  Purchase Month  Prices\n",
       "0            Jan    1249\n",
       "1            Feb     404\n",
       "2            Mar     474\n",
       "3            Apr     392\n",
       "4            May   43324\n",
       "5            Jun   11349\n",
       "6            Aug    2046\n",
       "7            Sep   29998\n",
       "8            Oct   19499\n",
       "9            Dec    1712"
      ]
     },
     "execution_count": 31,
     "metadata": {},
     "output_type": "execute_result"
    }
   ],
   "source": [
    "months_exp"
   ]
  },
  {
   "cell_type": "code",
   "execution_count": 32,
   "metadata": {},
   "outputs": [
    {
     "data": {
      "text/plain": [
       "Text(0, 0.5, 'Expenditure/Month')"
      ]
     },
     "execution_count": 32,
     "metadata": {},
     "output_type": "execute_result"
    },
    {
     "data": {
      "image/png": "[encoded data removed]",
      "text/plain": [
       "<Figure size 576x432 with 1 Axes>"
      ]
     },
     "metadata": {},
     "output_type": "display_data"
    }
   ],
   "source": [
    "sns.set_style('whitegrid')\n",
    "plt.figure(figsize=(8,6))\n",
    "plt.bar( months_exp['Purchase Month'], months_exp['Prices'], color='darkblue')\n",
    "plt.xlabel('Months')\n",
    "plt.ylabel('Expenditure/Month')\n"
   ]
  },
  {
   "cell_type": "code",
   "execution_count": null,
   "metadata": {},
   "outputs": [],
   "source": []
  }
 ],
 "metadata": {
  "kernelspec": {
   "display_name": "Python 3",
   "language": "python",
   "name": "python3"
  },
  "language_info": {
   "codemirror_mode": {
    "name": "ipython",
    "version": 3
   },
   "file_extension": ".py",
   "mimetype": "text/x-python",
   "name": "python",
   "nbconvert_exporter": "python",
   "pygments_lexer": "ipython3",
   "version": "3.7.6"
  }
 },
 "nbformat": 4,
 "nbformat_minor": 4
}
